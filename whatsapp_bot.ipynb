{
 "cells": [
  {
   "cell_type": "markdown",
   "id": "arbitrary-senate",
   "metadata": {},
   "source": [
    "### IAA - Agentes Conversacionais\n",
    "Priscilla Bomfim (@priscillapreks)\n",
    "30.08.2021\n"
   ]
  },
  {
   "cell_type": "code",
   "execution_count": 1,
   "id": "indoor-offense",
   "metadata": {},
   "outputs": [
    {
     "name": "stdout",
     "output_type": "stream",
     "text": [
      "Requirement already satisfied: nltk in d:\\anaconda\\lib\\site-packages (3.6.2)\n",
      "Requirement already satisfied: click in d:\\anaconda\\lib\\site-packages (from nltk) (7.1.2)\n",
      "Requirement already satisfied: tqdm in d:\\anaconda\\lib\\site-packages (from nltk) (4.59.0)\n",
      "Requirement already satisfied: joblib in d:\\anaconda\\lib\\site-packages (from nltk) (1.0.1)\n",
      "Requirement already satisfied: regex in d:\\anaconda\\lib\\site-packages (from nltk) (2021.8.28)\n",
      "Requirement already satisfied: selenium in d:\\anaconda\\lib\\site-packages (3.141.0)\n",
      "Requirement already satisfied: urllib3 in d:\\anaconda\\lib\\site-packages (from selenium) (1.26.4)\n",
      "Requirement already satisfied: webdriver-manager in d:\\anaconda\\lib\\site-packages (3.4.2)\n",
      "Requirement already satisfied: configparser in d:\\anaconda\\lib\\site-packages (from webdriver-manager) (5.0.2)\n",
      "Requirement already satisfied: requests in d:\\anaconda\\lib\\site-packages (from webdriver-manager) (2.25.1)\n",
      "Requirement already satisfied: crayons in d:\\anaconda\\lib\\site-packages (from webdriver-manager) (0.4.0)\n",
      "Requirement already satisfied: colorama in d:\\anaconda\\lib\\site-packages (from crayons->webdriver-manager) (0.4.4)\n",
      "Requirement already satisfied: certifi>=2017.4.17 in d:\\anaconda\\lib\\site-packages (from requests->webdriver-manager) (2021.5.30)\n",
      "Requirement already satisfied: idna<3,>=2.5 in d:\\anaconda\\lib\\site-packages (from requests->webdriver-manager) (2.10)\n",
      "Requirement already satisfied: chardet<5,>=3.0.2 in d:\\anaconda\\lib\\site-packages (from requests->webdriver-manager) (4.0.0)\n",
      "Requirement already satisfied: urllib3<1.27,>=1.21.1 in d:\\anaconda\\lib\\site-packages (from requests->webdriver-manager) (1.26.4)\n",
      "Requirement already satisfied: lxml in d:\\anaconda\\lib\\site-packages (4.6.3)\n"
     ]
    }
   ],
   "source": [
    "!pip install nltk\n",
    "!pip install selenium\n",
    "!pip install webdriver-manager\n",
    "!pip install lxml"
   ]
  },
  {
   "cell_type": "code",
   "execution_count": 2,
   "id": "professional-fireplace",
   "metadata": {},
   "outputs": [
    {
     "name": "stderr",
     "output_type": "stream",
     "text": [
      "[nltk_data] Downloading package punkt to\n",
      "[nltk_data]     C:\\Users\\preks\\AppData\\Roaming\\nltk_data...\n",
      "[nltk_data]   Package punkt is already up-to-date!\n",
      "[nltk_data] Downloading package rslp to\n",
      "[nltk_data]     C:\\Users\\preks\\AppData\\Roaming\\nltk_data...\n",
      "[nltk_data]   Package rslp is already up-to-date!\n",
      "[nltk_data] Downloading package stopwords to\n",
      "[nltk_data]     C:\\Users\\preks\\AppData\\Roaming\\nltk_data...\n",
      "[nltk_data]   Package stopwords is already up-to-date!\n"
     ]
    }
   ],
   "source": [
    "import warnings\n",
    "warnings.filterwarnings(\"ignore\")\n",
    "\n",
    "import numpy as np\n",
    "import time\n",
    "import random\n",
    "import string\n",
    "import bs4 as bs\n",
    "import urllib.request\n",
    "import re\n",
    "\n",
    "import nltk\n",
    "nltk.download('punkt')\n",
    "nltk.download('rslp')# Stemming em pt-br\n",
    "from nltk.corpus import stopwords\n",
    "nltk.download('stopwords')# Lista de stopwords\n",
    "\n",
    "from selenium import webdriver #Automatizador de acesso ao navegador\n",
    "from webdriver_manager.chrome import ChromeDriverManager #Driver específico do Chrome\n",
    "from selenium.webdriver.common.keys import Keys #Quando precisamos simular alguma tecla especial\n",
    "\n",
    "from sklearn.feature_extraction.text import TfidfVectorizer\n",
    "from sklearn.metrics.pairwise import cosine_similarity"
   ]
  },
  {
   "cell_type": "code",
   "execution_count": 3,
   "id": "eight-bibliography",
   "metadata": {},
   "outputs": [
    {
     "name": "stderr",
     "output_type": "stream",
     "text": [
      "\n",
      "\n",
      "====== WebDriver manager ======\n",
      "Current google-chrome version is 92.0.4515\n",
      "Get LATEST driver version for 92.0.4515\n",
      "Driver [C:\\Users\\preks\\.wdm\\drivers\\chromedriver\\win32\\92.0.4515.107\\chromedriver.exe] found in cache\n"
     ]
    },
    {
     "name": "stdout",
     "output_type": "stream",
     "text": [
      "Acessando o WhatsApp Web...\n",
      "Escaneie o QR Code, e então pressione ENTER\n",
      "\n"
     ]
    },
    {
     "data": {
      "text/plain": [
       "''"
      ]
     },
     "execution_count": 3,
     "metadata": {},
     "output_type": "execute_result"
    }
   ],
   "source": [
    "# Navegar até WhatsApp Web\n",
    "driver = webdriver.Chrome(ChromeDriverManager().install())\n",
    "print(\"Acessando o WhatsApp Web...\")\n",
    "driver.get('https://web.whatsapp.com/')\n",
    "#driver.maximize_window()\n",
    "print(\"Escaneie o QR Code, e então pressione ENTER\")\n",
    "input()"
   ]
  },
  {
   "cell_type": "code",
   "execution_count": 4,
   "id": "express-guinea",
   "metadata": {},
   "outputs": [
    {
     "data": {
      "text/plain": [
       "['Várias vacinas estão sendo desenvolvidas e distribuídas ao redor do mundo.',\n",
       " 'Os tratamentos atuais se concentram nos sintomas enquanto drogas terapêuticas que inibem o vírus são desenvolvidas.',\n",
       " 'Autoridades em todo o mundo responderam implementando restrições a viagens, lockdowns, controles de locais de trabalho e fechamentos de instalações.',\n",
       " 'Muitos lugares também trabalharam para aumentar a capacidade de testar e rastrear os contatos dos infectados.',\n",
       " 'A pandemia resultou em instabilidade social e econômica global significativa, incluindo a maior recessão global desde a Grande Depressão.']"
      ]
     },
     "execution_count": 4,
     "metadata": {},
     "output_type": "execute_result"
    }
   ],
   "source": [
    "# Cria o corpus com web-scrapping da wikipedia\n",
    "wikipedia_url = 'https://pt.wikipedia.org/wiki/Pandemia_de_COVID-19'\n",
    "\n",
    "codigo_html = urllib.request.urlopen(wikipedia_url)\n",
    "codigo_html = codigo_html.read()\n",
    "\n",
    "# Processa o código HTML lido\n",
    "html_processado = bs.BeautifulSoup(codigo_html, 'lxml')\n",
    "\n",
    "# Busca todos parágrafos do texto\n",
    "paragrafos = html_processado.find_all('p')\n",
    "\n",
    "texto = ''\n",
    "\n",
    "# Percorre parágrafos e concatena textos\n",
    "for p in paragrafos:\n",
    "  texto += p.text\n",
    "\n",
    "# Pré-processamento do corpus\n",
    "#texto = texto.lower()\n",
    "texto = re.sub(r'\\[[0-9]*\\]', ' ', texto)\n",
    "texto = re.sub(r'\\s+', ' ', texto)\n",
    "\n",
    "sentencas = nltk.sent_tokenize(texto, language='portuguese')\n",
    "palavras = nltk.word_tokenize(texto, language='portuguese')\n",
    "\n",
    "sentencas[10:15]"
   ]
  },
  {
   "cell_type": "code",
   "execution_count": 5,
   "id": "municipal-heavy",
   "metadata": {},
   "outputs": [],
   "source": [
    "# define as saudações \n",
    "saudacoes = (\"oi\", \"olá\", \"bom dia\", \"boa tarde\", \"boa noite\")\n",
    "saudacoes_respostas = [\"Olá! O que você gostaria de saber sobre a pandemia de COVID-19?\",\n",
    "                       \"Oi! Eu sei tudo sobre a COVID-19. Qual a sua dúvida?\",\n",
    "                       \"Olá, me faça uma pergunta sobre a pandemia de coronavírus!\"]\n",
    "\n",
    "def geradorsaudacoes(saudacao):\n",
    "  for token in saudacao.split():\n",
    "    if token.lower() in saudacoes:\n",
    "      return random.choice(saudacoes_respostas)  "
   ]
  },
  {
   "cell_type": "code",
   "execution_count": 6,
   "id": "photographic-validation",
   "metadata": {},
   "outputs": [],
   "source": [
    "# Função de Stemming\n",
    "def stemming(tokens):\n",
    "  stemmer = nltk.stem.RSLPStemmer()\n",
    "  novotexto = []\n",
    "  for token in tokens:\n",
    "    novotexto.append(stemmer.stem(token.lower()))\n",
    "  return novotexto\n",
    "\n",
    "# Função que remove pontuação\n",
    "removePontuacao = dict((ord(punctuation), None) for punctuation in string.punctuation)\n",
    "\n",
    "def preprocessa(mensagem):\n",
    "  return stemming(nltk.word_tokenize(mensagem.lower().translate(removePontuacao), language='portuguese'))"
   ]
  },
  {
   "cell_type": "code",
   "execution_count": 7,
   "id": "magnetic-tomato",
   "metadata": {},
   "outputs": [],
   "source": [
    "# Função para lidar com consultas do usuário\n",
    "def geradorrespostas(msg_usuario):\n",
    "  resposta = ''\n",
    "  sentencas.append(msg_usuario)\n",
    "\n",
    "  word_vectorizer = TfidfVectorizer(tokenizer=preprocessa, stop_words=stopwords.words('portuguese'))\n",
    "  all_word_vectors = word_vectorizer.fit_transform(sentencas)\n",
    "  similar_vector_values = cosine_similarity(all_word_vectors[-1], all_word_vectors)\n",
    "  similar_sentence_number = similar_vector_values.argsort()[0][-2]\n",
    "\n",
    "  matched_vector = similar_vector_values.flatten()\n",
    "  matched_vector.sort()\n",
    "  vector_matched = matched_vector[-2]\n",
    "\n",
    "  if vector_matched == 0:\n",
    "    resposta = resposta + \"Me desculpe, não entendi. Poderia reformular sua pergunta?\"\n",
    "    return resposta\n",
    "  else:\n",
    "    resposta = resposta + sentencas[similar_sentence_number]\n",
    "    return resposta"
   ]
  },
  {
   "cell_type": "code",
   "execution_count": 8,
   "id": "dense-salem",
   "metadata": {},
   "outputs": [],
   "source": [
    "# Função para gerar as respostas ao usuário\n",
    "\n",
    "def interacao_whatsapp(mensagem):\n",
    "\n",
    "  continue_dialogue = True\n",
    "\n",
    "  while (continue_dialogue == True):\n",
    "    # Obtém entrada do usuário\n",
    "    human_text = mensagem.lower()\n",
    "\n",
    "    if human_text != 'tchau':\n",
    "      if human_text == 'obrigado' or human_text == 'obrigada' or human_text == 'valeu':\n",
    "        continue_dialogue = False\n",
    "        print(\"[BOT]: Disponha. Quando tiver dúvidas, é só chamar!\")\n",
    "      else:\n",
    "        if geradorsaudacoes(human_text) != None:\n",
    "          print(geradorsaudacoes(human_text))\n",
    "          continue_dialogue = False\n",
    "        else:\n",
    "          print(\"[BOT]: \", end=\"\")\n",
    "          print(geradorrespostas(human_text))\n",
    "          sentencas.remove(human_text)\n",
    "          continue_dialogue = False\n",
    "    else:\n",
    "      continue_dialogue = False\n",
    "      print(\"[BOT]: Tchau. Até a próxima.\")"
   ]
  },
  {
   "cell_type": "code",
   "execution_count": 9,
   "id": "right-actor",
   "metadata": {},
   "outputs": [
    {
     "name": "stdout",
     "output_type": "stream",
     "text": [
      "Buscando novas mensagens...\n",
      "Buscando novas mensagens...\n",
      "Buscando novas mensagens...\n",
      "Buscando novas mensagens...\n",
      "Buscando novas mensagens...\n",
      "Mensagem do usuário:  Qual a origem da pandemia do coronavírus?\n",
      "[BOT]: É provável que o vírus tenha tido origem numa mutação dos coronavírus de morcegos.\n",
      "Sem mensagens novas...\n",
      "Buscando novas mensagens...\n",
      "Mensagem do usuário:  Oi\n",
      "Olá, me faça uma pergunta sobre a pandemia de coronavírus!\n",
      "Sem mensagens novas...\n",
      "Buscando novas mensagens...\n",
      "Sem mensagens novas...\n",
      "Buscando novas mensagens...\n"
     ]
    },
    {
     "ename": "KeyboardInterrupt",
     "evalue": "",
     "output_type": "error",
     "traceback": [
      "\u001b[1;31m---------------------------------------------------------------------------\u001b[0m",
      "\u001b[1;31mKeyboardInterrupt\u001b[0m                         Traceback (most recent call last)",
      "\u001b[1;32m<ipython-input-9-cd8e4e25e8bb>\u001b[0m in \u001b[0;36m<module>\u001b[1;34m\u001b[0m\n\u001b[0;32m      3\u001b[0m \u001b[1;32mwhile\u001b[0m \u001b[1;32mTrue\u001b[0m\u001b[1;33m:\u001b[0m\u001b[1;33m\u001b[0m\u001b[0m\n\u001b[0;32m      4\u001b[0m     \u001b[0mprint\u001b[0m\u001b[1;33m(\u001b[0m\u001b[1;34m\"Buscando novas mensagens...\"\u001b[0m\u001b[1;33m)\u001b[0m\u001b[1;33m\u001b[0m\u001b[0m\n\u001b[1;32m----> 5\u001b[1;33m     \u001b[0mtime\u001b[0m\u001b[1;33m.\u001b[0m\u001b[0msleep\u001b[0m\u001b[1;33m(\u001b[0m\u001b[1;36m10\u001b[0m\u001b[1;33m)\u001b[0m\u001b[1;33m\u001b[0m\u001b[0m\n\u001b[0m\u001b[0;32m      6\u001b[0m \u001b[1;33m\u001b[0m\u001b[0m\n\u001b[0;32m      7\u001b[0m     \u001b[1;32mtry\u001b[0m\u001b[1;33m:\u001b[0m\u001b[1;33m\u001b[0m\u001b[0m\n",
      "\u001b[1;31mKeyboardInterrupt\u001b[0m: "
     ]
    }
   ],
   "source": [
    "# Integração com WhatsApp web\n",
    "\n",
    "while True:  \n",
    "    print(\"Buscando novas mensagens...\")\n",
    "    time.sleep(10)\n",
    "    \n",
    "    try:\n",
    "        # Todos contatos que estão sinalizados com novas mensagens tem o atributo aria-label\n",
    "        # Aqui buscamos todos eles\n",
    "        contatos = driver.find_elements_by_css_selector(\"span[aria-label]\")\n",
    "        \n",
    "        # Percorre contatos com novas mensagens\n",
    "        for contato in contatos:\n",
    "            \n",
    "            # Clica no contato para que possamos acessar o campo de mensagem\n",
    "            contato.click()        \n",
    "            \n",
    "            todasMensagens = driver.find_elements_by_css_selector(\".copyable-text\")            \n",
    "            ultimaMensagem = todasMensagens[-2]     #[ len(todasMensagens) - 2 ]\n",
    "            print('Mensagem do usuário: ', ultimaMensagem.text)\n",
    "            \n",
    "            \n",
    "            ## RESPOSTA ##\n",
    "             \n",
    "            mensagem = ultimaMensagem.text\n",
    "            resposta = interacao_whatsapp(mensagem)\n",
    "                         \n",
    "            campoMensagem = driver.find_elements_by_css_selector(\"div[contenteditable='true']\")[1]\n",
    "                        \n",
    "            campoMensagem.click()\n",
    "            time.sleep(2)\n",
    "            campoMensagem.send_keys(resposta) # texto resposta para o bot\n",
    "            time.sleep(5)\n",
    "            campoMensagem.send_keys(Keys.ENTER)\n",
    "\n",
    "    except:\n",
    "        print(\"Sem mensagens novas...\")\n",
    "        # Coloca um timer para continuar depois de X segundos\n",
    "        time.sleep(5)"
   ]
  },
  {
   "cell_type": "markdown",
   "id": "magnetic-providence",
   "metadata": {},
   "source": [
    "\n",
    "---    \n",
    "\n",
    "\n",
    "#### Interagindo com o chatbot\n",
    "Faça perguntas como:\n",
    "*  *Qual a origem da pandemia do coronavírus?*\n",
    "*  *Quais os tratamentos para Covid-19?*\n",
    "*  *Quais são as medidas preventivas recomendadas?*\n",
    "*  *Perda de olfato pode ser COVID-19?* \n",
    "*  *Quais vacinas existem contra COVID-19?* \n",
    "\n",
    "  \n",
    "    \n",
    "    \n",
    "---"
   ]
  },
  {
   "cell_type": "code",
   "execution_count": 10,
   "id": "fabulous-solid",
   "metadata": {},
   "outputs": [
    {
     "name": "stdout",
     "output_type": "stream",
     "text": [
      "Olá! O que você gostaria de saber sobre a pandemia de COVID-19?\n"
     ]
    }
   ],
   "source": [
    "interacao_whatsapp('Oi')"
   ]
  },
  {
   "cell_type": "code",
   "execution_count": 11,
   "id": "simplified-millennium",
   "metadata": {},
   "outputs": [
    {
     "name": "stdout",
     "output_type": "stream",
     "text": [
      "[BOT]: Não existem medicamentos antivirais aprovados para o tratamento de COVID-19, embora estejam vários a ser desenvolvidos e a serem testados medicamentos já existentes.\n"
     ]
    }
   ],
   "source": [
    "interacao_whatsapp('Quais os tratamentos para Covid-19?')"
   ]
  },
  {
   "cell_type": "code",
   "execution_count": 12,
   "id": "silver-dressing",
   "metadata": {},
   "outputs": [
    {
     "name": "stdout",
     "output_type": "stream",
     "text": [
      "[BOT]: É provável que o vírus tenha tido origem numa mutação dos coronavírus de morcegos.\n"
     ]
    }
   ],
   "source": [
    "interacao_whatsapp('Qual a origem da pandemia do coronavírus?')"
   ]
  },
  {
   "cell_type": "code",
   "execution_count": 13,
   "id": "sitting-myanmar",
   "metadata": {},
   "outputs": [
    {
     "name": "stdout",
     "output_type": "stream",
     "text": [
      "[BOT]: A perda de olfato e paladar são também sintomas comuns da COVID-19.\n"
     ]
    }
   ],
   "source": [
    "interacao_whatsapp('Perda de olfato pode ser COVID-19?')"
   ]
  },
  {
   "cell_type": "code",
   "execution_count": 14,
   "id": "circular-editing",
   "metadata": {},
   "outputs": [
    {
     "name": "stdout",
     "output_type": "stream",
     "text": [
      "[BOT]: Em março de 2021, 12 vacinas foram autorizadas por pelo menos uma autoridade reguladora nacional para uso público: duas vacinas de RNA (a vacina da Pfizer–BioNTech e a vacina da Moderna), quatro vacinas inativadas convencionais (BBIBP-CorV, CoronaVac, Covaxin e CoviVac), quatro vacinas de vetor viral (Sputnik V, a vacina Oxford–AstraZeneca, a Convidecia e a vacina Johnson & Johnson) e duas vacinas de subunidade proteica (EpiVacCorona e RBD-Dimer).\n"
     ]
    }
   ],
   "source": [
    "interacao_whatsapp('Quais vacinas existem contra COVID-19?') "
   ]
  },
  {
   "cell_type": "code",
   "execution_count": 15,
   "id": "judicial-athletics",
   "metadata": {},
   "outputs": [
    {
     "name": "stdout",
     "output_type": "stream",
     "text": [
      "[BOT]: Disponha. Quando tiver dúvidas, é só chamar!\n"
     ]
    }
   ],
   "source": [
    "interacao_whatsapp('Obrigada') "
   ]
  },
  {
   "cell_type": "code",
   "execution_count": 16,
   "id": "moderate-savannah",
   "metadata": {},
   "outputs": [
    {
     "name": "stdout",
     "output_type": "stream",
     "text": [
      "[BOT]: Tchau. Até a próxima.\n"
     ]
    }
   ],
   "source": [
    "interacao_whatsapp('Tchau') "
   ]
  },
  {
   "cell_type": "code",
   "execution_count": null,
   "id": "scenic-shuttle",
   "metadata": {},
   "outputs": [],
   "source": []
  }
 ],
 "metadata": {
  "kernelspec": {
   "display_name": "Python 3",
   "language": "python",
   "name": "python3"
  },
  "language_info": {
   "codemirror_mode": {
    "name": "ipython",
    "version": 3
   },
   "file_extension": ".py",
   "mimetype": "text/x-python",
   "name": "python",
   "nbconvert_exporter": "python",
   "pygments_lexer": "ipython3",
   "version": "3.6.5"
  }
 },
 "nbformat": 4,
 "nbformat_minor": 5
}
